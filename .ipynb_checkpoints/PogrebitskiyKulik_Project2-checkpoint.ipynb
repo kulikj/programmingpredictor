{
 "cells": [
  {
   "cell_type": "markdown",
   "metadata": {},
   "source": [
    "# Data File:\n",
    "## https://drive.google.com/file/d/1V6YqkS_II9xgfEOgkaPXnFrL9LPil9Nx/view?usp=sharing"
   ]
  },
  {
   "cell_type": "code",
   "execution_count": 23,
   "metadata": {
    "pycharm": {
     "name": "#%%\n"
    }
   },
   "outputs": [],
   "source": [
    "import pandas as pd\n",
    "import warnings\n",
    "from sklearn.feature_extraction.text import TfidfVectorizer\n",
    "from sklearn.model_selection import train_test_split\n",
    "from sklearn.preprocessing import LabelEncoder\n",
    "from sklearn.naive_bayes import MultinomialNB\n",
    "from sklearn.model_selection import GridSearchCV\n",
    "from sklearn.metrics import recall_score, precision_score\n",
    "import seaborn as sns\n",
    "import matplotlib.pyplot as plt"
   ]
  },
  {
   "cell_type": "code",
   "execution_count": 2,
   "metadata": {
    "pycharm": {
     "name": "#%%\n"
    }
   },
   "outputs": [],
   "source": [
    "warnings.filterwarnings(\"ignore\")\n",
    "\n",
    "DATA_PATH = 'data.csv'"
   ]
  },
  {
   "cell_type": "code",
   "execution_count": 3,
   "metadata": {},
   "outputs": [],
   "source": [
    "# Read in data files and do some minor cleaning\n",
    "df = pd.read_csv(DATA_PATH, index_col=0)\n",
    "df = df.dropna()\n",
    "df = df.drop_duplicates()"
   ]
  },
  {
   "cell_type": "code",
   "execution_count": 4,
   "metadata": {},
   "outputs": [
    {
     "data": {
      "text/html": [
       "<div>\n",
       "<style scoped>\n",
       "    .dataframe tbody tr th:only-of-type {\n",
       "        vertical-align: middle;\n",
       "    }\n",
       "\n",
       "    .dataframe tbody tr th {\n",
       "        vertical-align: top;\n",
       "    }\n",
       "\n",
       "    .dataframe thead th {\n",
       "        text-align: right;\n",
       "    }\n",
       "</style>\n",
       "<table border=\"1\" class=\"dataframe\">\n",
       "  <thead>\n",
       "    <tr style=\"text-align: right;\">\n",
       "      <th></th>\n",
       "      <th>content</th>\n",
       "      <th>language</th>\n",
       "    </tr>\n",
       "    <tr>\n",
       "      <th>index</th>\n",
       "      <th></th>\n",
       "      <th></th>\n",
       "    </tr>\n",
       "  </thead>\n",
       "  <tbody>\n",
       "    <tr>\n",
       "      <th>0</th>\n",
       "      <td>/*\\n * Copyright (c) 1995-2001 Silicon Graphic...</td>\n",
       "      <td>C</td>\n",
       "    </tr>\n",
       "    <tr>\n",
       "      <th>1</th>\n",
       "      <td>/* *******************************************...</td>\n",
       "      <td>C</td>\n",
       "    </tr>\n",
       "    <tr>\n",
       "      <th>2</th>\n",
       "      <td>/* Interprocedural constant propagation\\n   Co...</td>\n",
       "      <td>C</td>\n",
       "    </tr>\n",
       "    <tr>\n",
       "      <th>3</th>\n",
       "      <td>/*\\n * Copyright (c) 2004 Topspin Corporation....</td>\n",
       "      <td>C</td>\n",
       "    </tr>\n",
       "    <tr>\n",
       "      <th>4</th>\n",
       "      <td>&lt;?php\\n\\nnamespace Ojs\\JournalBundle\\Listeners...</td>\n",
       "      <td>PHP</td>\n",
       "    </tr>\n",
       "  </tbody>\n",
       "</table>\n",
       "</div>"
      ],
      "text/plain": [
       "                                                 content language\n",
       "index                                                            \n",
       "0      /*\\n * Copyright (c) 1995-2001 Silicon Graphic...        C\n",
       "1      /* *******************************************...        C\n",
       "2      /* Interprocedural constant propagation\\n   Co...        C\n",
       "3      /*\\n * Copyright (c) 2004 Topspin Corporation....        C\n",
       "4      <?php\\n\\nnamespace Ojs\\JournalBundle\\Listeners...      PHP"
      ]
     },
     "execution_count": 4,
     "metadata": {},
     "output_type": "execute_result"
    }
   ],
   "source": [
    "df.head()"
   ]
  },
  {
   "cell_type": "code",
   "execution_count": 5,
   "metadata": {},
   "outputs": [],
   "source": [
    "# Regular Expression that will tokenize our code snippets\n",
    "regex = r\"[A-Za-z_]\\w*|[ \\t\\(\\),;\\{\\}\\[\\]`\\\"']|[!\\#\\$%\\&\\*\\+:\\-\\./<=>\\?@\\\\\\^_\\|\\~]+\""
   ]
  },
  {
   "cell_type": "code",
   "execution_count": 6,
   "metadata": {},
   "outputs": [],
   "source": [
    "# Separate features from labels\n",
    "X = df.content\n",
    "y = df.language\n",
    "\n",
    "# Assign numerical values to categorical labels\n",
    "le = LabelEncoder()\n",
    "y = le.fit_transform(y)\n",
    "\n",
    "# vectorize contents of each code snippet for ML use\n",
    "vectorizer = TfidfVectorizer(token_pattern=regex, max_features=3000)\n",
    "X = vectorizer.fit_transform(X).toarray()\n",
    "\n",
    "# Split features and labels into train and test sets\n",
    "X_train, X_test, y_train, y_test = train_test_split(X,y, test_size = 0.3, random_state = 42)"
   ]
  },
  {
   "cell_type": "code",
   "execution_count": 7,
   "metadata": {},
   "outputs": [
    {
     "data": {
      "text/plain": [
       "MultinomialNB()"
      ]
     },
     "execution_count": 7,
     "metadata": {},
     "output_type": "execute_result"
    }
   ],
   "source": [
    "# fit multinomial naive bayes' model using train sets\n",
    "model = MultinomialNB()\n",
    "model.fit(X_train, y_train)"
   ]
  },
  {
   "cell_type": "code",
   "execution_count": 8,
   "metadata": {},
   "outputs": [],
   "source": [
    "# run predict on test set to analyze predictive performance\n",
    "y_pred = model.predict(X_test)"
   ]
  },
  {
   "cell_type": "code",
   "execution_count": 9,
   "metadata": {},
   "outputs": [
    {
     "name": "stdout",
     "output_type": "stream",
     "text": [
      "Test Accuracy: 0.816\n",
      "Training Accuracy: 0.823\n"
     ]
    }
   ],
   "source": [
    "print(f'Test Accuracy: {model.score(X_test, y_test):.3f}')\n",
    "print(f'Training Accuracy: {model.score(X_train, y_train):.3f}')"
   ]
  },
  {
   "cell_type": "code",
   "execution_count": 22,
   "metadata": {},
   "outputs": [
    {
     "name": "stdout",
     "output_type": "stream",
     "text": [
      "Fitting 5 folds for each of 10 candidates, totalling 50 fits\n",
      "Best Accuracy Through Grid Search : 0.867\n",
      "Best Parameters : {'alpha': 1e-06}\n"
     ]
    }
   ],
   "source": [
    "# use gridseach to final optimal alpha value in multinomialNB to increase predictive performance\n",
    "params = {'alpha': [0.00000001,0.0000001,0.000001, 0.00001, 0.0001, 0.001, 0.01, 0.1, 1, 10, ],}\n",
    "\n",
    "multinomial_nb_grid = GridSearchCV(MultinomialNB(), param_grid=params, n_jobs=-1, cv=5, verbose=5);\n",
    "multinomial_nb_grid.fit(X,y);\n",
    "\n",
    "print(f'Best Accuracy Through Grid Search : {multinomial_nb_grid.best_score_:.3f}')\n",
    "print(f'Best Parameters : {multinomial_nb_grid.best_params_}')"
   ]
  },
  {
   "cell_type": "code",
   "execution_count": 25,
   "metadata": {},
   "outputs": [],
   "source": [
    "best_alpha = multinomial_nb_grid.best_params_['alpha']"
   ]
  },
  {
   "cell_type": "code",
   "execution_count": 12,
   "metadata": {},
   "outputs": [],
   "source": [
    "# re-train model using optimal parameters\n",
    "model_v2 = MultinomialNB(alpha = best_alpha);\n",
    "model_v2.fit(X_train, y_train);"
   ]
  },
  {
   "cell_type": "code",
   "execution_count": 13,
   "metadata": {},
   "outputs": [
    {
     "name": "stdout",
     "output_type": "stream",
     "text": [
      "Test Accuracy: 0.865\n",
      "Training Accuracy: 0.885\n"
     ]
    }
   ],
   "source": [
    "print(f'Test Accuracy: {model_v2.score(X_test, y_test):.3f}')\n",
    "print(f'Training Accuracy: {model_v2.score(X_train, y_train):.3f}')"
   ]
  },
  {
   "cell_type": "code",
   "execution_count": 14,
   "metadata": {},
   "outputs": [],
   "source": [
    "y_pred = model_v2.predict(X_test)"
   ]
  },
  {
   "cell_type": "code",
   "execution_count": 15,
   "metadata": {},
   "outputs": [
    {
     "name": "stdout",
     "output_type": "stream",
     "text": [
      "Precision: 0.900\n",
      "Recall: 0.818\n"
     ]
    }
   ],
   "source": [
    "print(f'Precision: {precision_score(y_test, y_pred, average = \"macro\"):.3f}')\n",
    "print(f'Recall: {recall_score(y_test, y_pred, average = \"macro\"):.3f}')"
   ]
  },
  {
   "cell_type": "code",
   "execution_count": 17,
   "metadata": {},
   "outputs": [],
   "source": [
    "def predict(text):\n",
    "    '''\n",
    "    Function: predict\n",
    "    Parameters: text, a string\n",
    "    Returns: a string representing the predicted language\n",
    "    \n",
    "    This function vectorizes the input string, runs it through the classification model,\n",
    "    then return the language that it predicted\n",
    "    \n",
    "    '''\n",
    "    x = vectorizer.transform([text]).toarray()\n",
    "    language = model.predict(x)\n",
    "    language = le.inverse_transform(language)\n",
    "    return language[0]"
   ]
  },
  {
   "cell_type": "code",
   "execution_count": 18,
   "metadata": {},
   "outputs": [
    {
     "data": {
      "text/plain": [
       "'JavaScript'"
      ]
     },
     "execution_count": 18,
     "metadata": {},
     "output_type": "execute_result"
    }
   ],
   "source": [
    "# check to see it's working\n",
    "code = r\"const { Client } = require('discord.js'); client.on(msg => {})\"\n",
    "predict(code)"
   ]
  },
  {
   "cell_type": "code",
   "execution_count": 19,
   "metadata": {},
   "outputs": [],
   "source": [
    "# builds dictionary that keeps track of how many times a prediction was made wrong as the value and \n",
    "# the correct language as the key\n",
    "\n",
    "wrong = {}\n",
    "for test, answer in zip(X_test, y_test):\n",
    "    guess = le.inverse_transform(model_v2.predict(test.reshape(1,-1)))[0]\n",
    "    correct_answer = le.inverse_transform([answer])[0]\n",
    "    if guess != correct_answer:\n",
    "        if correct_answer not in wrong.keys():\n",
    "            wrong[correct_answer] = 1\n",
    "        else:\n",
    "            wrong[correct_answer] += 1\n",
    "    "
   ]
  },
  {
   "cell_type": "code",
   "execution_count": 20,
   "metadata": {},
   "outputs": [
    {
     "data": {
      "image/png": "[encoded data removed]",
      "text/plain": [
       "<Figure size 864x576 with 1 Axes>"
      ]
     },
     "metadata": {
      "needs_background": "light"
     },
     "output_type": "display_data"
    }
   ],
   "source": [
    "# Plot to see which languages are getting predicted incorrectly \n",
    "\n",
    "wrong_full = {k: v for k, v in (sorted(wrong.items(), key = lambda x: x[1], reverse = True))}\n",
    "names = list(wrong_full.keys())\n",
    "values = list(wrong_full.values())\n",
    "total_vals = sum(values)\n",
    "rel_values = [i/total_vals for i in values]\n",
    "plt.figure(figsize = (12,8));\n",
    "sns.barplot(rel_values[:10], names[:10], orient = 'h', palette = 'icefire')\n",
    "plt.ylabel('Programming Language')\n",
    "plt.xlabel('Relative Frequency')\n",
    "plt.title('Model Errors Across Programming Languages') \n",
    "plt.savefig('error.png', bbox_inches='tight')"
   ]
  }
 ],
 "metadata": {
  "kernelspec": {
   "display_name": "Python 3 (ipykernel)",
   "language": "python",
   "name": "python3"
  },
  "language_info": {
   "codemirror_mode": {
    "name": "ipython",
    "version": 3
   },
   "file_extension": ".py",
   "mimetype": "text/x-python",
   "name": "python",
   "nbconvert_exporter": "python",
   "pygments_lexer": "ipython3",
   "version": "3.8.12"
  }
 },
 "nbformat": 4,
 "nbformat_minor": 1
}
